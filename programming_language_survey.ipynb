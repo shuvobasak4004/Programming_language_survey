{
 "cells": [
  {
   "cell_type": "code",
   "execution_count": 1,
   "id": "ed62fc20",
   "metadata": {},
   "outputs": [
    {
     "data": {
      "text/plain": [
       "8"
      ]
     },
     "execution_count": 1,
     "metadata": {},
     "output_type": "execute_result"
    }
   ],
   "source": [
    "4+4"
   ]
  },
  {
   "cell_type": "code",
   "execution_count": 2,
   "id": "b4b831bf",
   "metadata": {},
   "outputs": [
    {
     "name": "stdout",
     "output_type": "stream",
     "text": [
      "10 random IDs generated and saved to random_ids.csv\n"
     ]
    }
   ],
   "source": [
    "import pandas as pd\n",
    "import random\n",
    "import string\n",
    "\n",
    "# Function to generate random ID\n",
    "def generate_random_id(length=6):\n",
    "    return ''.join(random.choices(string.ascii_uppercase + string.digits, k=length))\n",
    "\n",
    "# Generate random IDs\n",
    "num_ids = 10  # Number of IDs to generate\n",
    "ids = [generate_random_id() for _ in range(num_ids)]\n",
    "\n",
    "# Create a DataFrame\n",
    "df = pd.DataFrame({'ID': ids})\n",
    "\n",
    "# Save DataFrame to a CSV file\n",
    "csv_file_path = 'random_ids.csv'\n",
    "df.to_csv(csv_file_path, index=False)\n",
    "\n",
    "print(f\"{num_ids} random IDs generated and saved to {csv_file_path}\")\n"
   ]
  },
  {
   "cell_type": "code",
   "execution_count": 3,
   "id": "5791bd69",
   "metadata": {},
   "outputs": [
    {
     "name": "stdout",
     "output_type": "stream",
     "text": [
      "10 random IDs generated and saved to random_ids.csv\n"
     ]
    }
   ],
   "source": [
    "import pandas as pd\n",
    "import random\n",
    "import string\n",
    "\n",
    "# Function to generate random ID\n",
    "def generate_random_id(length=6):\n",
    "    return ''.join(random.choices(string.ascii_uppercase + string.digits, k=length))\n",
    "\n",
    "# Generate random IDs\n",
    "num_ids = 10  # Number of IDs to generate\n",
    "ids = [generate_random_id() for _ in range(num_ids)]\n",
    "\n",
    "# Create a DataFrame\n",
    "df = pd.DataFrame({'ID': ids})\n",
    "\n",
    "# Save DataFrame to a CSV file with specified delimiter and encoding\n",
    "csv_file_path = 'random_ids.csv'\n",
    "df.to_csv(csv_file_path, index=False, sep=',', encoding='utf-8-sig')\n",
    "\n",
    "print(f\"{num_ids} random IDs generated and saved to {csv_file_path}\")\n"
   ]
  },
  {
   "cell_type": "code",
   "execution_count": 4,
   "id": "33c690f9",
   "metadata": {},
   "outputs": [
    {
     "name": "stdout",
     "output_type": "stream",
     "text": [
      "Dataset with 100 people generated and saved to programming_language_survey.csv\n"
     ]
    }
   ],
   "source": [
    "import pandas as pd\n",
    "import random\n",
    "import string\n",
    "\n",
    "# Function to generate random phone numbers for different countries\n",
    "def generate_phone_number(country_code):\n",
    "    if country_code == 'US':\n",
    "        return '+1' + ''.join(random.choices(string.digits, k=10))\n",
    "    elif country_code == 'UK':\n",
    "        return '+44' + ''.join(random.choices(string.digits, k=10))\n",
    "    elif country_code == 'FR':\n",
    "        return '+33' + ''.join(random.choices(string.digits, k=9))\n",
    "    # Add more country codes and formats as needed\n",
    "    else:\n",
    "        return '+XX' + ''.join(random.choices(string.digits, k=10))\n",
    "\n",
    "# Function to generate random age\n",
    "def generate_age():\n",
    "    return random.randint(18, 70)\n",
    "\n",
    "# Function to generate random work\n",
    "def generate_work():\n",
    "    works = ['Software Developer', 'Data Scientist', 'Web Developer', 'System Administrator', 'Database Administrator', 'Network Engineer']\n",
    "    return random.choice(works)\n",
    "\n",
    "# Function to generate random address\n",
    "def generate_address():\n",
    "    cities = ['New York', 'London', 'Paris', 'Tokyo', 'Berlin', 'Sydney']\n",
    "    countries = ['USA', 'UK', 'France', 'Japan', 'Germany', 'Australia']\n",
    "    return f\"{random.choice(cities)}, {random.choice(countries)}\"\n",
    "\n",
    "# Generate random programming language preferences\n",
    "programming_languages = ['Python', 'Java', 'JavaScript', 'C++', 'C#', 'Ruby', 'Swift', 'PHP', 'Go', 'Rust']\n",
    "num_people = 100  # Number of people in the dataset\n",
    "\n",
    "# Generate random data for each person\n",
    "data = {\n",
    "    'Name': [''.join(random.choices(string.ascii_letters, k=8)) for _ in range(num_people)],\n",
    "    'Phone Number': [generate_phone_number(random.choice(['US', 'UK', 'FR'])) for _ in range(num_people)],\n",
    "    'Age': [generate_age() for _ in range(num_people)],\n",
    "    'Work': [generate_work() for _ in range(num_people)],\n",
    "    'Address': [generate_address() for _ in range(num_people)],\n",
    "    'Preferred Programming Language': [random.choice(programming_languages) for _ in range(num_people)]\n",
    "}\n",
    "\n",
    "# Create DataFrame\n",
    "df = pd.DataFrame(data)\n",
    "\n",
    "# Save DataFrame to CSV\n",
    "csv_file_path = 'programming_language_survey.csv'\n",
    "df.to_csv(csv_file_path, index=False)\n",
    "\n",
    "print(f\"Dataset with {num_people} people generated and saved to {csv_file_path}\")\n"
   ]
  },
  {
   "cell_type": "code",
   "execution_count": 5,
   "id": "3c38eecb",
   "metadata": {},
   "outputs": [
    {
     "name": "stdout",
     "output_type": "stream",
     "text": [
      "Dataset with 100000 people generated and saved to programming_language_survey_100000.csv\n"
     ]
    }
   ],
   "source": [
    "import pandas as pd\n",
    "import random\n",
    "import string\n",
    "\n",
    "# Function to generate random phone numbers for different countries\n",
    "def generate_phone_number(country_code):\n",
    "    if country_code == 'US':\n",
    "        return '+1' + ''.join(random.choices(string.digits, k=10))\n",
    "    elif country_code == 'UK':\n",
    "        return '+44' + ''.join(random.choices(string.digits, k=10))\n",
    "    elif country_code == 'FR':\n",
    "        return '+33' + ''.join(random.choices(string.digits, k=9))\n",
    "    elif country_code == 'DE':\n",
    "        return '+49' + ''.join(random.choices(string.digits, k=11))\n",
    "    elif country_code == 'AU':\n",
    "        return '+61' + ''.join(random.choices(string.digits, k=9))\n",
    "    elif country_code == 'JP':\n",
    "        return '+81' + ''.join(random.choices(string.digits, k=9))\n",
    "    elif country_code == 'IT':\n",
    "        return '+39' + ''.join(random.choices(string.digits, k=10))\n",
    "    elif country_code == 'BR':\n",
    "        return '+55' + ''.join(random.choices(string.digits, k=11))\n",
    "    elif country_code == 'CN':\n",
    "        return '+86' + ''.join(random.choices(string.digits, k=11))\n",
    "    elif country_code == 'CA':\n",
    "        return '+1' + ''.join(random.choices(string.digits, k=10))\n",
    "    # Add more country codes and formats as needed\n",
    "    else:\n",
    "        return '+XX' + ''.join(random.choices(string.digits, k=10))\n",
    "\n",
    "# Function to generate random age\n",
    "def generate_age():\n",
    "    return random.randint(18, 70)\n",
    "\n",
    "# Function to generate random work\n",
    "def generate_work():\n",
    "    works = ['Software Developer', 'Data Scientist', 'Web Developer', 'System Administrator', 'Database Administrator', 'Network Engineer']\n",
    "    return random.choice(works)\n",
    "\n",
    "# Function to generate random address\n",
    "def generate_address():\n",
    "    cities = ['New York', 'London', 'Paris', 'Tokyo', 'Berlin', 'Sydney']\n",
    "    countries = ['USA', 'UK', 'France', 'Japan', 'Germany', 'Australia']\n",
    "    return f\"{random.choice(cities)}, {random.choice(countries)}\"\n",
    "\n",
    "# Generate random programming language preferences\n",
    "programming_languages = ['Python', 'Java', 'JavaScript', 'C++', 'C#', 'Ruby', 'Swift', 'PHP', 'Go', 'Rust']\n",
    "num_people = 100000  # Number of people in the dataset\n",
    "\n",
    "# Generate random data for each person\n",
    "data = {\n",
    "    'Name': [''.join(random.choices(string.ascii_letters, k=8)) for _ in range(num_people)],\n",
    "    'Phone Number': [generate_phone_number(random.choice(['US', 'UK', 'FR', 'DE', 'AU', 'JP', 'IT', 'BR', 'CN', 'CA'])) for _ in range(num_people)],\n",
    "    'Age': [generate_age() for _ in range(num_people)],\n",
    "    'Work': [generate_work() for _ in range(num_people)],\n",
    "    'Address': [generate_address() for _ in range(num_people)],\n",
    "    'Preferred Programming Language': [random.choice(programming_languages) for _ in range(num_people)]\n",
    "}\n",
    "\n",
    "# Create DataFrame\n",
    "df = pd.DataFrame(data)\n",
    "\n",
    "# Save DataFrame to CSV\n",
    "csv_file_path = 'programming_language_survey_100000.csv'\n",
    "df.to_csv(csv_file_path, index=False)\n",
    "\n",
    "print(f\"Dataset with {num_people} people generated and saved to {csv_file_path}\")\n"
   ]
  },
  {
   "cell_type": "code",
   "execution_count": null,
   "id": "aabbfd62",
   "metadata": {},
   "outputs": [],
   "source": []
  }
 ],
 "metadata": {
  "kernelspec": {
   "display_name": "Python 3 (ipykernel)",
   "language": "python",
   "name": "python3"
  },
  "language_info": {
   "codemirror_mode": {
    "name": "ipython",
    "version": 3
   },
   "file_extension": ".py",
   "mimetype": "text/x-python",
   "name": "python",
   "nbconvert_exporter": "python",
   "pygments_lexer": "ipython3",
   "version": "3.10.2"
  }
 },
 "nbformat": 4,
 "nbformat_minor": 5
}
